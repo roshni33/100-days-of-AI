# Titanic Survival Prediction Project
# Day 1 of 100 Days of AI Learning Challenge

# Step 1: Importing Required Libraries
import numpy as np
import pandas as pd
import seaborn as sns
import matplotlib.pyplot as plt
from sklearn.model_selection import train_test_split
from sklearn.linear_model import LogisticRegression
from sklearn.metrics import accuracy_score


# Step 2: Load Dataset
df = pd.read_csv('/content/train.csv')


# Display the first few rows of the dataset
print(df.head())
# Display the shape and info of the dataset
df.shape
print(df.info())


# Step 3: Finding Missing Values
print("\nMissing values in each column:")
df.isnull().sum()


# Step 4: Data Preprocessing
# 4.1 Drop unnecessary columns
df = df.drop(columns='Cabin', axis=1)

# 4.2 Replace missing 'Age' values with the mean
df['Age'].fillna(df['Age'].mean(), inplace=True)

# 4.3 Replace missing 'Embarked' values with the mode
df['Embarked'].fillna(df['Embarked'].mode()[0], inplace=True)


# Step 5: Data Analysis
print(df.describe())
print(df['Survived'].value_counts())


# Step 6: Data Visualization
sns.set()
sns.countplot(x='Survived', data=df, palette=['blue', 'orange'])
sns.countplot(x='Sex', data=df, palette=['blue', 'orange'])

df['Sex'].value_counts()

# Survival count by gender (how many males/females survived or died)
sns.countplot(x='Sex', hue='Survived', data=df, palette=['blue', 'orange'])

# Compare Pclass and Survived
sns.countplot(x='Pclass', hue='Survived', data=df, palette=['blue', 'orange'])



# Step 7: Encoding Categorical Columns - encode - Sex column & Embark column
df.replace({'Sex': {'male': 0, 'female': 1}}, inplace=True)
df.replace({'Embarked': {'S': 0, 'C': 1, 'Q': 2}}, inplace=True)

# Step 8: Separating Features and Target Column
X = df.drop(columns=['PassengerId', 'Name', 'Ticket', 'Survived'], axis=1)
Y = df['Survived']
print(X)
print(Y)


# Step 9: Splitting into Train & Test Data
X_train, X_test, Y_train, Y_test = train_test_split(X, Y, test_size=0.2, random_state=2)
print(X.shape,X_train.shape, X_test.shape)


# Step 10: Model Training using Logistic Regression
model = LogisticRegression()
model.fit(X_train, Y_train)


# Step 11: Model Evaluation
# Accuracy Score
from sklearn.metrics import accuracy_score
X_train_predictions = model.predict(X_train)
print(X_train_predictions)
print("Accuracy: ",accuracy_score(Y_train,X_train_predictions))

X_test_predictions = model.predict(X_test)
print(X_test_predictions)
print("Accuracy: ",accuracy_score(Y_test,X_test_predictions))

