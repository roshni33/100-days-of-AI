{
  "nbformat": 4,
  "nbformat_minor": 0,
  "metadata": {
    "colab": {
      "provenance": [],
      "authorship_tag": "ABX9TyPHsXSM66ZmV3ADO9yKg+xi",
      "include_colab_link": true
    },
    "kernelspec": {
      "name": "python3",
      "display_name": "Python 3"
    },
    "language_info": {
      "name": "python"
    }
  },
  "cells": [
    {
      "cell_type": "markdown",
      "metadata": {
        "id": "view-in-github",
        "colab_type": "text"
      },
      "source": [
        "<a href=\"https://colab.research.google.com/github/roshni33/100-days-of-AI/blob/main/credit_card_fraud_detection.ipynb\" target=\"_parent\"><img src=\"https://colab.research.google.com/assets/colab-badge.svg\" alt=\"Open In Colab\"/></a>"
      ]
    },
    {
      "cell_type": "code",
      "execution_count": 32,
      "metadata": {
        "id": "DMuSW3dNugYz"
      },
      "outputs": [],
      "source": [
        "import pandas as pd\n",
        "from sklearn.preprocessing import StandardScaler\n",
        "from sklearn.ensemble import RandomForestClassifier\n",
        "from sklearn.model_selection import train_test_split\n",
        "from sklearn.impute import SimpleImputer\n",
        "from sklearn.neighbors import KNeighborsClassifier"
      ]
    },
    {
      "cell_type": "code",
      "source": [
        "dataframe = pd.read_csv(\"/content/merged-csv.csv\")"
      ],
      "metadata": {
        "id": "TTMn_-dqvvpL"
      },
      "execution_count": 33,
      "outputs": []
    },
    {
      "cell_type": "code",
      "source": [
        "dataframe.head()"
      ],
      "metadata": {
        "colab": {
          "base_uri": "https://localhost:8080/",
          "height": 463
        },
        "id": "f-T95ztInWnS",
        "outputId": "546fe87e-5af0-4d10-83d1-c865944615b0"
      },
      "execution_count": 34,
      "outputs": [
        {
          "output_type": "execute_result",
          "data": {
            "text/plain": [
              "  trans_date_trans_time        cc_num                              merchant  \\\n",
              "0      21-06-2020 12:14  2.290000e+15                 fraud_Kirlin and Sons   \n",
              "1      21-06-2020 12:14  3.570000e+15                  fraud_Sporer-Keebler   \n",
              "2      21-06-2020 12:14  3.600000e+15  fraud_Swaniawski, Nitzsche and Welch   \n",
              "3      21-06-2020 12:15  3.590000e+15                     fraud_Haley Group   \n",
              "4      21-06-2020 12:15  3.530000e+15                 fraud_Johnston-Casper   \n",
              "\n",
              "         category    amt   first      last gender  \\\n",
              "0   personal_care   2.86    Jeff   Elliott      M   \n",
              "1   personal_care  29.84  Joanne  Williams      F   \n",
              "2  health_fitness  41.28  Ashley     Lopez      F   \n",
              "3        misc_pos  60.05   Brian  Williams      M   \n",
              "4          travel   3.19  Nathan    Massey      M   \n",
              "\n",
              "                        street        city  ...      lat      long  city_pop  \\\n",
              "0            351 Darlene Green    Columbia  ...  33.9659  -80.9355  333497.0   \n",
              "1             3638 Marsh Union     Altonah  ...  40.3207 -110.4360     302.0   \n",
              "2         9333 Valentine Point    Bellmore  ...  40.6729  -73.5365   34496.0   \n",
              "3  32941 Krystal Mill Apt. 552  Titusville  ...  28.5697  -80.8191   54767.0   \n",
              "4     5783 Evan Roads Apt. 465    Falmouth  ...  44.2529  -85.0170    1126.0   \n",
              "\n",
              "                      job         dob                         trans_num  \\\n",
              "0     Mechanical engineer  19-03-1968  2da90c7d74bd46a0caf3777415b3ebd3   \n",
              "1  Sales professional, IT  17-01-1990  324cc204407e99f51b0d6ca0055005e7   \n",
              "2       Librarian, public  21-10-1970  c81755dbbbea9d5c77f094348a7579be   \n",
              "3            Set designer  25-07-1987  2159175b9efe66dc301f149d3d5abf8c   \n",
              "4      Furniture designer  06-07-1955  57ff021bd3f328f8738bb535c302a31b   \n",
              "\n",
              "      unix_time  merch_lat  merch_long  is_fraud  \n",
              "0  1.371817e+09  33.986391  -81.200714       0.0  \n",
              "1  1.371817e+09  39.450498 -109.960431       0.0  \n",
              "2  1.371817e+09  40.495810  -74.196111       0.0  \n",
              "3  1.371817e+09  28.812398  -80.883061       0.0  \n",
              "4  1.371817e+09  44.959148  -85.884734       0.0  \n",
              "\n",
              "[5 rows x 22 columns]"
            ],
            "text/html": [
              "\n",
              "  <div id=\"df-97794bcc-c577-4b1c-94ee-e05a9f68c0fb\" class=\"colab-df-container\">\n",
              "    <div>\n",
              "<style scoped>\n",
              "    .dataframe tbody tr th:only-of-type {\n",
              "        vertical-align: middle;\n",
              "    }\n",
              "\n",
              "    .dataframe tbody tr th {\n",
              "        vertical-align: top;\n",
              "    }\n",
              "\n",
              "    .dataframe thead th {\n",
              "        text-align: right;\n",
              "    }\n",
              "</style>\n",
              "<table border=\"1\" class=\"dataframe\">\n",
              "  <thead>\n",
              "    <tr style=\"text-align: right;\">\n",
              "      <th></th>\n",
              "      <th>trans_date_trans_time</th>\n",
              "      <th>cc_num</th>\n",
              "      <th>merchant</th>\n",
              "      <th>category</th>\n",
              "      <th>amt</th>\n",
              "      <th>first</th>\n",
              "      <th>last</th>\n",
              "      <th>gender</th>\n",
              "      <th>street</th>\n",
              "      <th>city</th>\n",
              "      <th>...</th>\n",
              "      <th>lat</th>\n",
              "      <th>long</th>\n",
              "      <th>city_pop</th>\n",
              "      <th>job</th>\n",
              "      <th>dob</th>\n",
              "      <th>trans_num</th>\n",
              "      <th>unix_time</th>\n",
              "      <th>merch_lat</th>\n",
              "      <th>merch_long</th>\n",
              "      <th>is_fraud</th>\n",
              "    </tr>\n",
              "  </thead>\n",
              "  <tbody>\n",
              "    <tr>\n",
              "      <th>0</th>\n",
              "      <td>21-06-2020 12:14</td>\n",
              "      <td>2.290000e+15</td>\n",
              "      <td>fraud_Kirlin and Sons</td>\n",
              "      <td>personal_care</td>\n",
              "      <td>2.86</td>\n",
              "      <td>Jeff</td>\n",
              "      <td>Elliott</td>\n",
              "      <td>M</td>\n",
              "      <td>351 Darlene Green</td>\n",
              "      <td>Columbia</td>\n",
              "      <td>...</td>\n",
              "      <td>33.9659</td>\n",
              "      <td>-80.9355</td>\n",
              "      <td>333497.0</td>\n",
              "      <td>Mechanical engineer</td>\n",
              "      <td>19-03-1968</td>\n",
              "      <td>2da90c7d74bd46a0caf3777415b3ebd3</td>\n",
              "      <td>1.371817e+09</td>\n",
              "      <td>33.986391</td>\n",
              "      <td>-81.200714</td>\n",
              "      <td>0.0</td>\n",
              "    </tr>\n",
              "    <tr>\n",
              "      <th>1</th>\n",
              "      <td>21-06-2020 12:14</td>\n",
              "      <td>3.570000e+15</td>\n",
              "      <td>fraud_Sporer-Keebler</td>\n",
              "      <td>personal_care</td>\n",
              "      <td>29.84</td>\n",
              "      <td>Joanne</td>\n",
              "      <td>Williams</td>\n",
              "      <td>F</td>\n",
              "      <td>3638 Marsh Union</td>\n",
              "      <td>Altonah</td>\n",
              "      <td>...</td>\n",
              "      <td>40.3207</td>\n",
              "      <td>-110.4360</td>\n",
              "      <td>302.0</td>\n",
              "      <td>Sales professional, IT</td>\n",
              "      <td>17-01-1990</td>\n",
              "      <td>324cc204407e99f51b0d6ca0055005e7</td>\n",
              "      <td>1.371817e+09</td>\n",
              "      <td>39.450498</td>\n",
              "      <td>-109.960431</td>\n",
              "      <td>0.0</td>\n",
              "    </tr>\n",
              "    <tr>\n",
              "      <th>2</th>\n",
              "      <td>21-06-2020 12:14</td>\n",
              "      <td>3.600000e+15</td>\n",
              "      <td>fraud_Swaniawski, Nitzsche and Welch</td>\n",
              "      <td>health_fitness</td>\n",
              "      <td>41.28</td>\n",
              "      <td>Ashley</td>\n",
              "      <td>Lopez</td>\n",
              "      <td>F</td>\n",
              "      <td>9333 Valentine Point</td>\n",
              "      <td>Bellmore</td>\n",
              "      <td>...</td>\n",
              "      <td>40.6729</td>\n",
              "      <td>-73.5365</td>\n",
              "      <td>34496.0</td>\n",
              "      <td>Librarian, public</td>\n",
              "      <td>21-10-1970</td>\n",
              "      <td>c81755dbbbea9d5c77f094348a7579be</td>\n",
              "      <td>1.371817e+09</td>\n",
              "      <td>40.495810</td>\n",
              "      <td>-74.196111</td>\n",
              "      <td>0.0</td>\n",
              "    </tr>\n",
              "    <tr>\n",
              "      <th>3</th>\n",
              "      <td>21-06-2020 12:15</td>\n",
              "      <td>3.590000e+15</td>\n",
              "      <td>fraud_Haley Group</td>\n",
              "      <td>misc_pos</td>\n",
              "      <td>60.05</td>\n",
              "      <td>Brian</td>\n",
              "      <td>Williams</td>\n",
              "      <td>M</td>\n",
              "      <td>32941 Krystal Mill Apt. 552</td>\n",
              "      <td>Titusville</td>\n",
              "      <td>...</td>\n",
              "      <td>28.5697</td>\n",
              "      <td>-80.8191</td>\n",
              "      <td>54767.0</td>\n",
              "      <td>Set designer</td>\n",
              "      <td>25-07-1987</td>\n",
              "      <td>2159175b9efe66dc301f149d3d5abf8c</td>\n",
              "      <td>1.371817e+09</td>\n",
              "      <td>28.812398</td>\n",
              "      <td>-80.883061</td>\n",
              "      <td>0.0</td>\n",
              "    </tr>\n",
              "    <tr>\n",
              "      <th>4</th>\n",
              "      <td>21-06-2020 12:15</td>\n",
              "      <td>3.530000e+15</td>\n",
              "      <td>fraud_Johnston-Casper</td>\n",
              "      <td>travel</td>\n",
              "      <td>3.19</td>\n",
              "      <td>Nathan</td>\n",
              "      <td>Massey</td>\n",
              "      <td>M</td>\n",
              "      <td>5783 Evan Roads Apt. 465</td>\n",
              "      <td>Falmouth</td>\n",
              "      <td>...</td>\n",
              "      <td>44.2529</td>\n",
              "      <td>-85.0170</td>\n",
              "      <td>1126.0</td>\n",
              "      <td>Furniture designer</td>\n",
              "      <td>06-07-1955</td>\n",
              "      <td>57ff021bd3f328f8738bb535c302a31b</td>\n",
              "      <td>1.371817e+09</td>\n",
              "      <td>44.959148</td>\n",
              "      <td>-85.884734</td>\n",
              "      <td>0.0</td>\n",
              "    </tr>\n",
              "  </tbody>\n",
              "</table>\n",
              "<p>5 rows × 22 columns</p>\n",
              "</div>\n",
              "    <div class=\"colab-df-buttons\">\n",
              "\n",
              "  <div class=\"colab-df-container\">\n",
              "    <button class=\"colab-df-convert\" onclick=\"convertToInteractive('df-97794bcc-c577-4b1c-94ee-e05a9f68c0fb')\"\n",
              "            title=\"Convert this dataframe to an interactive table.\"\n",
              "            style=\"display:none;\">\n",
              "\n",
              "  <svg xmlns=\"http://www.w3.org/2000/svg\" height=\"24px\" viewBox=\"0 -960 960 960\">\n",
              "    <path d=\"M120-120v-720h720v720H120Zm60-500h600v-160H180v160Zm220 220h160v-160H400v160Zm0 220h160v-160H400v160ZM180-400h160v-160H180v160Zm440 0h160v-160H620v160ZM180-180h160v-160H180v160Zm440 0h160v-160H620v160Z\"/>\n",
              "  </svg>\n",
              "    </button>\n",
              "\n",
              "  <style>\n",
              "    .colab-df-container {\n",
              "      display:flex;\n",
              "      gap: 12px;\n",
              "    }\n",
              "\n",
              "    .colab-df-convert {\n",
              "      background-color: #E8F0FE;\n",
              "      border: none;\n",
              "      border-radius: 50%;\n",
              "      cursor: pointer;\n",
              "      display: none;\n",
              "      fill: #1967D2;\n",
              "      height: 32px;\n",
              "      padding: 0 0 0 0;\n",
              "      width: 32px;\n",
              "    }\n",
              "\n",
              "    .colab-df-convert:hover {\n",
              "      background-color: #E2EBFA;\n",
              "      box-shadow: 0px 1px 2px rgba(60, 64, 67, 0.3), 0px 1px 3px 1px rgba(60, 64, 67, 0.15);\n",
              "      fill: #174EA6;\n",
              "    }\n",
              "\n",
              "    .colab-df-buttons div {\n",
              "      margin-bottom: 4px;\n",
              "    }\n",
              "\n",
              "    [theme=dark] .colab-df-convert {\n",
              "      background-color: #3B4455;\n",
              "      fill: #D2E3FC;\n",
              "    }\n",
              "\n",
              "    [theme=dark] .colab-df-convert:hover {\n",
              "      background-color: #434B5C;\n",
              "      box-shadow: 0px 1px 3px 1px rgba(0, 0, 0, 0.15);\n",
              "      filter: drop-shadow(0px 1px 2px rgba(0, 0, 0, 0.3));\n",
              "      fill: #FFFFFF;\n",
              "    }\n",
              "  </style>\n",
              "\n",
              "    <script>\n",
              "      const buttonEl =\n",
              "        document.querySelector('#df-97794bcc-c577-4b1c-94ee-e05a9f68c0fb button.colab-df-convert');\n",
              "      buttonEl.style.display =\n",
              "        google.colab.kernel.accessAllowed ? 'block' : 'none';\n",
              "\n",
              "      async function convertToInteractive(key) {\n",
              "        const element = document.querySelector('#df-97794bcc-c577-4b1c-94ee-e05a9f68c0fb');\n",
              "        const dataTable =\n",
              "          await google.colab.kernel.invokeFunction('convertToInteractive',\n",
              "                                                    [key], {});\n",
              "        if (!dataTable) return;\n",
              "\n",
              "        const docLinkHtml = 'Like what you see? Visit the ' +\n",
              "          '<a target=\"_blank\" href=https://colab.research.google.com/notebooks/data_table.ipynb>data table notebook</a>'\n",
              "          + ' to learn more about interactive tables.';\n",
              "        element.innerHTML = '';\n",
              "        dataTable['output_type'] = 'display_data';\n",
              "        await google.colab.output.renderOutput(dataTable, element);\n",
              "        const docLink = document.createElement('div');\n",
              "        docLink.innerHTML = docLinkHtml;\n",
              "        element.appendChild(docLink);\n",
              "      }\n",
              "    </script>\n",
              "  </div>\n",
              "\n",
              "\n",
              "<div id=\"df-0582407b-c162-4a64-ba3e-2c8b3638db7e\">\n",
              "  <button class=\"colab-df-quickchart\" onclick=\"quickchart('df-0582407b-c162-4a64-ba3e-2c8b3638db7e')\"\n",
              "            title=\"Suggest charts\"\n",
              "            style=\"display:none;\">\n",
              "\n",
              "<svg xmlns=\"http://www.w3.org/2000/svg\" height=\"24px\"viewBox=\"0 0 24 24\"\n",
              "     width=\"24px\">\n",
              "    <g>\n",
              "        <path d=\"M19 3H5c-1.1 0-2 .9-2 2v14c0 1.1.9 2 2 2h14c1.1 0 2-.9 2-2V5c0-1.1-.9-2-2-2zM9 17H7v-7h2v7zm4 0h-2V7h2v10zm4 0h-2v-4h2v4z\"/>\n",
              "    </g>\n",
              "</svg>\n",
              "  </button>\n",
              "\n",
              "<style>\n",
              "  .colab-df-quickchart {\n",
              "      --bg-color: #E8F0FE;\n",
              "      --fill-color: #1967D2;\n",
              "      --hover-bg-color: #E2EBFA;\n",
              "      --hover-fill-color: #174EA6;\n",
              "      --disabled-fill-color: #AAA;\n",
              "      --disabled-bg-color: #DDD;\n",
              "  }\n",
              "\n",
              "  [theme=dark] .colab-df-quickchart {\n",
              "      --bg-color: #3B4455;\n",
              "      --fill-color: #D2E3FC;\n",
              "      --hover-bg-color: #434B5C;\n",
              "      --hover-fill-color: #FFFFFF;\n",
              "      --disabled-bg-color: #3B4455;\n",
              "      --disabled-fill-color: #666;\n",
              "  }\n",
              "\n",
              "  .colab-df-quickchart {\n",
              "    background-color: var(--bg-color);\n",
              "    border: none;\n",
              "    border-radius: 50%;\n",
              "    cursor: pointer;\n",
              "    display: none;\n",
              "    fill: var(--fill-color);\n",
              "    height: 32px;\n",
              "    padding: 0;\n",
              "    width: 32px;\n",
              "  }\n",
              "\n",
              "  .colab-df-quickchart:hover {\n",
              "    background-color: var(--hover-bg-color);\n",
              "    box-shadow: 0 1px 2px rgba(60, 64, 67, 0.3), 0 1px 3px 1px rgba(60, 64, 67, 0.15);\n",
              "    fill: var(--button-hover-fill-color);\n",
              "  }\n",
              "\n",
              "  .colab-df-quickchart-complete:disabled,\n",
              "  .colab-df-quickchart-complete:disabled:hover {\n",
              "    background-color: var(--disabled-bg-color);\n",
              "    fill: var(--disabled-fill-color);\n",
              "    box-shadow: none;\n",
              "  }\n",
              "\n",
              "  .colab-df-spinner {\n",
              "    border: 2px solid var(--fill-color);\n",
              "    border-color: transparent;\n",
              "    border-bottom-color: var(--fill-color);\n",
              "    animation:\n",
              "      spin 1s steps(1) infinite;\n",
              "  }\n",
              "\n",
              "  @keyframes spin {\n",
              "    0% {\n",
              "      border-color: transparent;\n",
              "      border-bottom-color: var(--fill-color);\n",
              "      border-left-color: var(--fill-color);\n",
              "    }\n",
              "    20% {\n",
              "      border-color: transparent;\n",
              "      border-left-color: var(--fill-color);\n",
              "      border-top-color: var(--fill-color);\n",
              "    }\n",
              "    30% {\n",
              "      border-color: transparent;\n",
              "      border-left-color: var(--fill-color);\n",
              "      border-top-color: var(--fill-color);\n",
              "      border-right-color: var(--fill-color);\n",
              "    }\n",
              "    40% {\n",
              "      border-color: transparent;\n",
              "      border-right-color: var(--fill-color);\n",
              "      border-top-color: var(--fill-color);\n",
              "    }\n",
              "    60% {\n",
              "      border-color: transparent;\n",
              "      border-right-color: var(--fill-color);\n",
              "    }\n",
              "    80% {\n",
              "      border-color: transparent;\n",
              "      border-right-color: var(--fill-color);\n",
              "      border-bottom-color: var(--fill-color);\n",
              "    }\n",
              "    90% {\n",
              "      border-color: transparent;\n",
              "      border-bottom-color: var(--fill-color);\n",
              "    }\n",
              "  }\n",
              "</style>\n",
              "\n",
              "  <script>\n",
              "    async function quickchart(key) {\n",
              "      const quickchartButtonEl =\n",
              "        document.querySelector('#' + key + ' button');\n",
              "      quickchartButtonEl.disabled = true;  // To prevent multiple clicks.\n",
              "      quickchartButtonEl.classList.add('colab-df-spinner');\n",
              "      try {\n",
              "        const charts = await google.colab.kernel.invokeFunction(\n",
              "            'suggestCharts', [key], {});\n",
              "      } catch (error) {\n",
              "        console.error('Error during call to suggestCharts:', error);\n",
              "      }\n",
              "      quickchartButtonEl.classList.remove('colab-df-spinner');\n",
              "      quickchartButtonEl.classList.add('colab-df-quickchart-complete');\n",
              "    }\n",
              "    (() => {\n",
              "      let quickchartButtonEl =\n",
              "        document.querySelector('#df-0582407b-c162-4a64-ba3e-2c8b3638db7e button');\n",
              "      quickchartButtonEl.style.display =\n",
              "        google.colab.kernel.accessAllowed ? 'block' : 'none';\n",
              "    })();\n",
              "  </script>\n",
              "</div>\n",
              "\n",
              "    </div>\n",
              "  </div>\n"
            ],
            "application/vnd.google.colaboratory.intrinsic+json": {
              "type": "dataframe",
              "variable_name": "dataframe"
            }
          },
          "metadata": {},
          "execution_count": 34
        }
      ]
    },
    {
      "cell_type": "code",
      "source": [
        "# Save the 'trans_date_trans_time' column for later use if needed\n",
        "trans_date_trans_time_column = dataframe['trans_date_trans_time']\n"
      ],
      "metadata": {
        "id": "m1TmilqOvvlq"
      },
      "execution_count": 35,
      "outputs": []
    },
    {
      "cell_type": "code",
      "source": [
        "# Drop non-numeric columns\n",
        "dataframe = dataframe.select_dtypes(exclude=['object'])\n"
      ],
      "metadata": {
        "id": "7x4mBDD9vvi7"
      },
      "execution_count": 36,
      "outputs": []
    },
    {
      "cell_type": "code",
      "source": [
        "# Standardize the 'amt' column\n",
        "scaler = StandardScaler()\n",
        "dataframe[\"NormalizedAmount\"] = scaler.fit_transform(dataframe[\"amt\"].values.reshape(-1, 1))\n"
      ],
      "metadata": {
        "id": "4-VQJ0YIvvdr"
      },
      "execution_count": 37,
      "outputs": []
    },
    {
      "cell_type": "code",
      "source": [
        "# Drop unnecessary columns\n",
        "dataframe.drop([\"amt\", \"trans_date_trans_time\"], inplace=True, axis=1, errors='ignore')\n"
      ],
      "metadata": {
        "id": "Y_C1rL_bvvbL"
      },
      "execution_count": 38,
      "outputs": []
    },
    {
      "cell_type": "code",
      "source": [
        "# Define features(columns) and target variable(Y)\n",
        "Y = dataframe[\"is_fraud\"]\n",
        "X = dataframe.drop([\"is_fraud\"], axis=1)\n"
      ],
      "metadata": {
        "id": "djUWpAO-vvYb"
      },
      "execution_count": 39,
      "outputs": []
    },
    {
      "cell_type": "code",
      "source": [
        "# Handle missing values\n",
        "imputer = SimpleImputer(strategy='mean')\n",
        "X_imputed = imputer.fit_transform(X)\n"
      ],
      "metadata": {
        "id": "tmcSIbV5vvV7"
      },
      "execution_count": 40,
      "outputs": []
    },
    {
      "cell_type": "code",
      "source": [
        "# Combine X_imputed and Y before splitting to handle missing values\n",
        "data_imputed = pd.DataFrame(X_imputed, columns=X.columns)\n",
        "data_imputed[\"is_fraud\"] = Y\n"
      ],
      "metadata": {
        "id": "Gx4o9j0dvvTa"
      },
      "execution_count": 41,
      "outputs": []
    },
    {
      "cell_type": "code",
      "source": [
        "# Remove rows with NaN values in the target variable(is_fraud)\n",
        "data_imputed = data_imputed.dropna(subset=[\"is_fraud\"])\n"
      ],
      "metadata": {
        "id": "b5VbPCITvvQc"
      },
      "execution_count": 42,
      "outputs": []
    },
    {
      "cell_type": "code",
      "source": [
        "\n",
        "# Split the data into training and testing sets\n",
        "(train_X, test_X, train_Y, test_Y) = train_test_split(\n",
        "    data_imputed.drop([\"is_fraud\"], axis=1),\n",
        "    data_imputed[\"is_fraud\"],\n",
        "    test_size=0.3,\t #testing 30% , training 70%\n",
        "    random_state=42  #split is same everytime we run the code\n",
        ")\n"
      ],
      "metadata": {
        "id": "rSZ7Du52wWRK"
      },
      "execution_count": 43,
      "outputs": []
    },
    {
      "cell_type": "code",
      "source": [
        "#handling imbalanced dataset using random forest  - #resampling - oversampling done\n",
        "!pip install imbalanced-learn\n",
        "from imblearn.over_sampling import SMOTE  # For oversampling\n",
        "from imblearn.under_sampling import RandomUnderSampler  # For undersampling\n",
        "from sklearn.metrics import precision_score, recall_score, f1_score\n",
        "\n",
        "random_forest = RandomForestClassifier(n_estimators=10)\t\t#10 decision trees\n",
        "\n",
        "# Assuming train_X and train_Y are already defined\n",
        "smote = SMOTE(random_state=42)  # Create a SMOTE object\n",
        "\n",
        "# Fit SMOTE to the training data\n",
        "train_X_balanced, train_Y_balanced = smote.fit_resample(train_X, train_Y)\n",
        "\n",
        "# Now, train your model on the balanced dataset\n",
        "random_forest.fit(train_X_balanced, train_Y_balanced)\n",
        "\n",
        "# Make predictions\n",
        "pred_rf = random_forest.predict(test_X)\n",
        "\n",
        "# Evaluate the model\n",
        "rf_score = random_forest.score(test_X, test_Y) * 100\n",
        "print(\"Random Forest Accuracy: \", rf_score)\n",
        "print(\"Precision for rf: {:.5f}\".format(precision_score(test_Y,pred_rf)))\n",
        "print(\"Recall for rf: {:.5f}\".format(recall_score(test_Y,pred_rf)))\n",
        "print(\"F1-score for rf: {:.5f}\".format(f1_score(test_Y,pred_rf)))\n"
      ],
      "metadata": {
        "colab": {
          "base_uri": "https://localhost:8080/"
        },
        "id": "wJtJmk8vVkuo",
        "outputId": "ad78ec8e-fbb7-428f-c575-b71bd80a8dd7"
      },
      "execution_count": 44,
      "outputs": [
        {
          "output_type": "stream",
          "name": "stdout",
          "text": [
            "Requirement already satisfied: imbalanced-learn in /usr/local/lib/python3.10/dist-packages (0.12.3)\n",
            "Requirement already satisfied: numpy>=1.17.3 in /usr/local/lib/python3.10/dist-packages (from imbalanced-learn) (1.26.4)\n",
            "Requirement already satisfied: scipy>=1.5.0 in /usr/local/lib/python3.10/dist-packages (from imbalanced-learn) (1.13.1)\n",
            "Requirement already satisfied: scikit-learn>=1.0.2 in /usr/local/lib/python3.10/dist-packages (from imbalanced-learn) (1.5.2)\n",
            "Requirement already satisfied: joblib>=1.1.1 in /usr/local/lib/python3.10/dist-packages (from imbalanced-learn) (1.4.2)\n",
            "Requirement already satisfied: threadpoolctl>=2.0.0 in /usr/local/lib/python3.10/dist-packages (from imbalanced-learn) (3.5.0)\n",
            "Random Forest Accuracy:  99.54221294883374\n",
            "Precision for rf: 0.45841\n",
            "Recall for rf: 0.78849\n",
            "F1-score for rf: 0.57976\n"
          ]
        }
      ]
    },
    {
      "cell_type": "code",
      "source": [
        "#handling imbalanced dataset using knn - #resampling - oversampling done\n",
        "!pip install imbalanced-learn\n",
        "from imblearn.over_sampling import SMOTE  # For oversampling\n",
        "from imblearn.under_sampling import RandomUnderSampler  # For undersampling\n",
        "from sklearn.metrics import precision_score, recall_score, f1_score\n",
        "\n",
        "knn = KNeighborsClassifier(n_neighbors=5)\n",
        "\n",
        "# Assuming train_X and train_Y are already defined\n",
        "smote = SMOTE(random_state=42)  # Create a SMOTE object\n",
        "\n",
        "# Fit SMOTE to the training data\n",
        "train_X_balanced, train_Y_balanced = smote.fit_resample(train_X, train_Y)\n",
        "\n",
        "# Now, train your model on the balanced dataset\n",
        "knn.fit(train_X_balanced, train_Y_balanced)\n",
        "\n",
        "# Make predictions\n",
        "knn_pred = knn.predict(test_X)\n",
        "\n",
        "# Evaluate the model\n",
        "knn_score = knn.score(test_X, test_Y) * 100\n",
        "print(\"knn Accuracy: \",knn_score)\n",
        "print(\"Precision for knn: {:.5f}\".format(precision_score(test_Y,knn_pred)))\n",
        "print(\"Recall for knn: {:.5f}\".format(recall_score(test_Y,knn_pred)))\n",
        "print(\"F1-score for knn: {:.5f}\".format(f1_score(test_Y,knn_pred)))\n"
      ],
      "metadata": {
        "colab": {
          "base_uri": "https://localhost:8080/"
        },
        "id": "DeOu2yzfX9YO",
        "outputId": "fc46fc21-cad2-4ef0-c498-e2082c55b7f5"
      },
      "execution_count": 45,
      "outputs": [
        {
          "output_type": "stream",
          "name": "stdout",
          "text": [
            "Requirement already satisfied: imbalanced-learn in /usr/local/lib/python3.10/dist-packages (0.12.3)\n",
            "Requirement already satisfied: numpy>=1.17.3 in /usr/local/lib/python3.10/dist-packages (from imbalanced-learn) (1.26.4)\n",
            "Requirement already satisfied: scipy>=1.5.0 in /usr/local/lib/python3.10/dist-packages (from imbalanced-learn) (1.13.1)\n",
            "Requirement already satisfied: scikit-learn>=1.0.2 in /usr/local/lib/python3.10/dist-packages (from imbalanced-learn) (1.5.2)\n",
            "Requirement already satisfied: joblib>=1.1.1 in /usr/local/lib/python3.10/dist-packages (from imbalanced-learn) (1.4.2)\n",
            "Requirement already satisfied: threadpoolctl>=2.0.0 in /usr/local/lib/python3.10/dist-packages (from imbalanced-learn) (3.5.0)\n",
            "knn Accuracy:  98.90504811435333\n",
            "Precision for knn: 0.26104\n",
            "Recall for knn: 0.94712\n",
            "F1-score for knn: 0.40927\n"
          ]
        }
      ]
    },
    {
      "cell_type": "code",
      "source": [
        "#confusion matrix - random forest\n",
        "import seaborn as sns\n",
        "from sklearn.metrics import confusion_matrix\n",
        "import matplotlib.pyplot as plt\n",
        "\n",
        "confusion_matrix_rf = confusion_matrix(test_Y, pred_rf.round())\n",
        "\n",
        "# Display the confusion matrix using seaborn\n",
        "confusion_matrix_rf = confusion_matrix(test_Y, pred_rf.round())\n",
        "print(\"Confusion Matrix - Random Forest\")\n",
        "print(confusion_matrix_rf)\n",
        "\n",
        "plt.figure(figsize=(6, 4))\n",
        "sns.heatmap(confusion_matrix_rf, annot=True, fmt='d', cmap='Blues', cbar=False,\n",
        "            xticklabels=['Predicted 0', 'Predicted 1'],\n",
        "            yticklabels=['Actual 0', 'Actual 1'])\n",
        "plt.title('Confusion Matrix - Random Forest')\n",
        "plt.xlabel('Predicted Label')\n",
        "plt.ylabel('Actual Label')\n",
        "plt.show()\n",
        "\n"
      ],
      "metadata": {
        "id": "yF9-dA0GwWBQ",
        "colab": {
          "base_uri": "https://localhost:8080/",
          "height": 462
        },
        "outputId": "142061d9-f7fc-40b8-a61b-00e0df3e2973"
      },
      "execution_count": 46,
      "outputs": [
        {
          "output_type": "stream",
          "name": "stdout",
          "text": [
            "Confusion Matrix - Random Forest\n",
            "[[159313    599]\n",
            " [   136    507]]\n"
          ]
        },
        {
          "output_type": "display_data",
          "data": {
            "text/plain": [
              "<Figure size 600x400 with 1 Axes>"
            ],
            "image/png": "[encoded data removed]"
          },
          "metadata": {}
        }
      ]
    },
    {
      "cell_type": "code",
      "source": [
        "#confusion matrix - knn\n",
        "import seaborn as sns\n",
        "from sklearn.metrics import confusion_matrix\n",
        "import matplotlib.pyplot as plt\n",
        "\n",
        "confusion_matrix_rf = confusion_matrix(test_Y, knn_pred.round())\n",
        "\n",
        "# Display the confusion matrix using seaborn\n",
        "confusion_matrix_rf = confusion_matrix(test_Y, knn_pred.round())\n",
        "print(\"Confusion Matrix - knn\")\n",
        "print(confusion_matrix_rf)\n",
        "\n",
        "plt.figure(figsize=(6, 4))\n",
        "sns.heatmap(confusion_matrix_rf, annot=True, fmt='d', cmap='Blues', cbar=False,\n",
        "            xticklabels=['Predicted 0', 'Predicted 1'],\n",
        "            yticklabels=['Actual 0', 'Actual 1'])\n",
        "plt.title('Confusion Matrix - knn')\n",
        "plt.xlabel('Predicted Label')\n",
        "plt.ylabel('Actual Label')\n",
        "plt.show()\n"
      ],
      "metadata": {
        "id": "nHn3XTTrw1mm",
        "colab": {
          "base_uri": "https://localhost:8080/",
          "height": 462
        },
        "outputId": "86da6a43-fca8-43ad-dfef-6f18bb3fd290"
      },
      "execution_count": 47,
      "outputs": [
        {
          "output_type": "stream",
          "name": "stdout",
          "text": [
            "Confusion Matrix - knn\n",
            "[[158188   1724]\n",
            " [    34    609]]\n"
          ]
        },
        {
          "output_type": "display_data",
          "data": {
            "text/plain": [
              "<Figure size 600x400 with 1 Axes>"
            ],
            "image/png": "[encoded data removed]"
          },
          "metadata": {}
        }
      ]
    },
    {
      "cell_type": "code",
      "source": [
        "#ROC-AUC - rf\n",
        "from sklearn.metrics import roc_auc_score, roc_curve\n",
        "pred_rf_proba = random_forest.predict_proba(test_X)[:, 1]  # Get probabilities for the positive class\n",
        "rf_roc_auc = roc_auc_score(test_Y, pred_rf_proba)\n",
        "\n",
        "print(\"Random Forest ROC-AUC: {:.5f}\".format(rf_roc_auc))\n",
        "\n",
        "# Plot ROC Curve for Random Forest\n",
        "fpr_rf, tpr_rf, _ = roc_curve(test_Y, pred_rf_proba)\n",
        "plt.figure(figsize=(8, 6))\n",
        "plt.plot(fpr_rf, tpr_rf, label='Random Forest (AUC = {:.2f})'.format(rf_roc_auc))\n",
        "plt.plot([0, 1], [0, 1], linestyle='--', color='gray')  # Diagonal line\n",
        "plt.title('ROC Curve - Random Forest')\n",
        "plt.xlabel('False Positive Rate')\n",
        "plt.ylabel('True Positive Rate')\n",
        "plt.legend()\n",
        "plt.grid()\n",
        "plt.show()"
      ],
      "metadata": {
        "colab": {
          "base_uri": "https://localhost:8080/",
          "height": 545
        },
        "id": "ZiDSm2h2h0O6",
        "outputId": "4ecf1a86-9d8d-4854-efd0-55959c6a47af"
      },
      "execution_count": 48,
      "outputs": [
        {
          "output_type": "stream",
          "name": "stdout",
          "text": [
            "Random Forest ROC-AUC: 0.96164\n"
          ]
        },
        {
          "output_type": "display_data",
          "data": {
            "text/plain": [
              "<Figure size 800x600 with 1 Axes>"
            ],
            "image/png": "[encoded data removed]"
          },
          "metadata": {}
        }
      ]
    },
    {
      "cell_type": "code",
      "source": [
        "#ROC-AUC - knn\n",
        "from sklearn.metrics import roc_auc_score, roc_curve\n",
        "knn_proba = knn.predict_proba(test_X)[:, 1]  # Get probabilities for the positive class\n",
        "knn_roc_auc = roc_auc_score(test_Y, knn_proba)\n",
        "\n",
        "print(\"KNN ROC-AUC: {:.5f}\".format(knn_roc_auc)) # has a very high ability to correctly classify transactions.\n",
        "\n",
        "# Plot ROC Curve for KNN\n",
        "fpr_knn, tpr_knn, _ = roc_curve(test_Y, knn_proba)\n",
        "plt.plot(fpr_knn, tpr_knn, label='KNN (AUC = {:.2f})'.format(knn_roc_auc))\n",
        "plt.title('ROC Curve - KNN')\n",
        "plt.xlabel('False Positive Rate')\n",
        "plt.ylabel('True Positive Rate')\n",
        "plt.legend()\n",
        "plt.grid()\n",
        "plt.show()\n"
      ],
      "metadata": {
        "colab": {
          "base_uri": "https://localhost:8080/",
          "height": 489
        },
        "id": "JDlTPtWfiPyj",
        "outputId": "5ceda111-da92-4c93-db6e-fb1dd90ec7d9"
      },
      "execution_count": 49,
      "outputs": [
        {
          "output_type": "stream",
          "name": "stdout",
          "text": [
            "KNN ROC-AUC: 0.98072\n"
          ]
        },
        {
          "output_type": "display_data",
          "data": {
            "text/plain": [
              "<Figure size 640x480 with 1 Axes>"
            ],
            "image/png": "[encoded data removed]"
          },
          "metadata": {}
        }
      ]
    },
    {
      "cell_type": "code",
      "source": [
        "#testing with own values - example1\n",
        "\n",
        "ip3 = pd.DataFrame({\n",
        "    \"trans_date_trans_time\": [\"20-05-2019 11:45\"],\n",
        "    \"amt\": [2.305560e+15],\n",
        "    \"first\": [\"jiwon\"],\n",
        "    \"last\": [\"lee\"],\n",
        "    \"gender\": [\"M\"],\n",
        "    \"street\": [\"128 Darlene Green\"],\n",
        "    \"city\": [\"NY\"],\n",
        "    \"zip\": [11710],\n",
        "    \"lat\": [40.6729],\n",
        "    \"long\": [-73.5365],\n",
        "    \"city_pop\": [34496],\n",
        "    \"job\": [\"Software Developer\"],\n",
        "    \"dob\": [\"09-03-1993\"],\n",
        "    \"trans_num\": [\"6da90x7d74bd46a0caf3777415b3ebd3\"],\n",
        "    \"unix_time\": [1371816867],\n",
        "    \"merch_lat\": [40.49581],\n",
        "    \"merch_long\": [-74.196111]\n",
        "})\n",
        "\n",
        "# Ensure columns in ip3 match the training data columns\n",
        "ip3 = ip3.reindex(columns=X.columns, fill_value=0)\n",
        "\n",
        "# Handle missing values\n",
        "ip3_imputed = imputer.transform(ip3)\n",
        "\n",
        "# Standardize the 'amt' column\n",
        "ip3[\"NormalizedAmount\"] = scaler.transform(ip3_imputed[:, 0].reshape(-1, 1))  # Assuming 'amt' is the first column after imputation\n",
        "\n",
        "# Drop unnecessary columns\n",
        "ip3.drop([\"amt\", \"trans_date_trans_time\"], inplace=True, axis=1, errors='ignore')\n",
        "\n",
        "# Make predictions using the RandomForestClassifier\n",
        "pred = random_forest.predict(ip3)\n",
        "print(pred)\n",
        "\n",
        "if pred == 1:\n",
        "    print(\"Fraud Transaction\")\n",
        "else:\n",
        "    print(\"Legitimate Transaction\")\n",
        "\n"
      ],
      "metadata": {
        "id": "Z5VCeVOCw1he",
        "colab": {
          "base_uri": "https://localhost:8080/"
        },
        "outputId": "40f9c059-0b25-4e04-f93b-8d2b868a19c8"
      },
      "execution_count": 50,
      "outputs": [
        {
          "output_type": "stream",
          "name": "stdout",
          "text": [
            "[0.]\n",
            "Legitimate Transaction\n"
          ]
        }
      ]
    },
    {
      "cell_type": "code",
      "source": [
        "##testing with own values - example2\n",
        "\n",
        "ip3 = pd.DataFrame({\n",
        "    \"Column1\":0,\n",
        "    \"trans_date_trans_time\": [\"11-01-2019 23:19\"],\n",
        "    \"cc_num\":[4.58758E+15],\n",
        "    \"merchant\":[\"Erdman-Durgan\"],\n",
        "    \"category\":[\"health_fitness\"],\n",
        "    \"amt\": [24.78],\n",
        "    \"first\": [\"Tina\"],\n",
        "    \"last\": [\"Lawrence\"],\n",
        "    \"gender\": [\"F\"],\n",
        "    \"street\": [\"1244 Iacob Pines\"],\n",
        "    \"city\": [\"Nobleboro\"],\n",
        "    \"state\":[\"ME\"],\n",
        "    \"zip\": [4555],\n",
        "    \"lat\": [44.0943],\n",
        "    \"long\": [-90.4828],\n",
        "    \"city_pop\": [1643],\n",
        "    \"job\": [\"sweeper\"],\n",
        "    \"dob\": [\"12-04-1976\"],\n",
        "    \"trans_num\": [\"37cf814645218a60bb7cv138371947a6a\"],\n",
        "    \"unix_time\": [1326323953],\n",
        "    \"merch_lat\": [45.047977],\n",
        "    \"merch_long\": [-145.949649]\n",
        "})\n",
        "\n",
        "# Ensure columns in ip3 match the training data columns\n",
        "ip3 = ip3.reindex(columns=X.columns, fill_value=0)\n",
        "\n",
        "# Handle missing values\n",
        "ip3_imputed = imputer.transform(ip3)\n",
        "\n",
        "# Standardize the 'amt' column\n",
        "ip3[\"NormalizedAmount\"] = scaler.transform(ip3_imputed[:, 0].reshape(-1, 1))  # Assuming 'amt' is the first column after imputation\n",
        "\n",
        "# Drop unnecessary columns\n",
        "ip3.drop([\"amt\", \"trans_date_trans_time\"], inplace=True, axis=1, errors='ignore')\n",
        "\n",
        "# Make predictions using the RandomForestClassifier\n",
        "pred = knn.predict(ip3)\n",
        "print(pred)\n",
        "\n",
        "if pred == 1:\n",
        "    print(\"Fraud Transaction\")\n",
        "else:\n",
        "    print(\"Legitimate Transaction\")\n"
      ],
      "metadata": {
        "id": "O2aCD9gMxKR5",
        "colab": {
          "base_uri": "https://localhost:8080/"
        },
        "outputId": "20b1e2e4-b258-4920-fdaa-1f6ed799cb0d"
      },
      "execution_count": 51,
      "outputs": [
        {
          "output_type": "stream",
          "name": "stdout",
          "text": [
            "[1.]\n",
            "Fraud Transaction\n"
          ]
        }
      ]
    },
    {
      "cell_type": "code",
      "source": [],
      "metadata": {
        "id": "QJw9OrCxjBt7"
      },
      "execution_count": null,
      "outputs": []
    },
    {
      "cell_type": "code",
      "source": [],
      "metadata": {
        "id": "GpAUSCOHi49J"
      },
      "execution_count": null,
      "outputs": []
    }
  ]
}