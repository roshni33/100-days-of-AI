{
  "nbformat": 4,
  "nbformat_minor": 0,
  "metadata": {
    "colab": {
      "provenance": [],
      "authorship_tag": "ABX9TyMQw/iUZgWx93cczafFVxhg",
      "include_colab_link": true
    },
    "kernelspec": {
      "name": "python3",
      "display_name": "Python 3"
    },
    "language_info": {
      "name": "python"
    }
  },
  "cells": [
    {
      "cell_type": "markdown",
      "metadata": {
        "id": "view-in-github",
        "colab_type": "text"
      },
      "source": [
        "<a href=\"https://colab.research.google.com/github/roshni33/100-days-of-AI/blob/main/movie_recommendation_system.ipynb\" target=\"_parent\"><img src=\"https://colab.research.google.com/assets/colab-badge.svg\" alt=\"Open In Colab\"/></a>"
      ]
    },
    {
      "cell_type": "code",
      "source": [
        "#latest code - ironman,iron man + o/p include iron man,iron man 2 , iron man 3\n",
        "\n",
        "import numpy as np\n",
        "import pandas as pd\n",
        "from sklearn.feature_extraction.text import TfidfVectorizer\n",
        "from sklearn.metrics.pairwise import cosine_similarity\n",
        "import difflib\n",
        "\n",
        "# Load the dataset and clean it\n",
        "df = pd.read_csv('/content/movies.csv',low_memory=False)\n",
        "df = df.loc[:, ~df.columns.str.contains('^Unnamed')]\n",
        "selected_features = ['genres', 'keywords', 'tagline', 'cast', 'director']\n",
        "\n",
        "# Replace NaN values with empty strings\n",
        "for feature in selected_features:\n",
        "    df[feature] = df[feature].fillna('')\n",
        "\n",
        "# Combine selected features into a single text-based feature\n",
        "combined_features = df['genres'] + ' ' + df['keywords'] + ' ' + df['tagline'] + ' ' + df['cast'] + ' ' + df['director']\n",
        "\n",
        "# Convert text to feature vectors using TF-IDF\n",
        "vectorizer = TfidfVectorizer()\n",
        "feature_vectors = vectorizer.fit_transform(combined_features)\n",
        "\n",
        "# Calculate similarity matrix\n",
        "similarity = cosine_similarity(feature_vectors)\n",
        "\n",
        "# User input movie name\n",
        "movie_name = input(\"Enter movie name - \").lower()\n",
        "\n",
        "# Ensure the 'title' column has no null values and remove them\n",
        "df['title'] = df['title'].fillna('')  # Replace NaN in title column with empty strings\n",
        "\n",
        "# Normalize movie titles by removing spaces for matching purposes\n",
        "df['normalized_title'] = df['title'].str.replace(' ', '').str.lower()\n",
        "\n",
        "# Normalize user input movie name by removing spaces\n",
        "normalized_movie_name = movie_name.replace(' ', '')\n",
        "\n",
        "# Find all movie titles and find close matches for the normalized input movie\n",
        "list_of_all_titles = df['normalized_title'].tolist()  # Convert titles to lowercase without spaces\n",
        "\n",
        "# Find the closest match for the user's normalized movie name\n",
        "find_close_match = difflib.get_close_matches(normalized_movie_name, list_of_all_titles)\n",
        "\n",
        "# Handle the case where no close match is found\n",
        "if not find_close_match:\n",
        "    print(f\"No match found for the movie {movie_name}\")\n",
        "else:\n",
        "    # Find the index of the first close match (assume it's the best match)\n",
        "    close_match_title = find_close_match[0]\n",
        "    movie_index = df[df['normalized_title'] == close_match_title].index[0]  # Get the row index\n",
        "\n",
        "    # Get similarity scores for all movies\n",
        "    similarity_score = list(enumerate(similarity[int(movie_index)]))\n",
        "\n",
        "    # Sort movies based on similarity scores\n",
        "    sorted_similar_movies = sorted(similarity_score, key=lambda x: x[1], reverse=True)\n",
        "\n",
        "    # Create a list to hold movie titles in the recommendations\n",
        "    recommended_movies = []\n",
        "\n",
        "    # Start by including the user-input movie and its sequels (if available)\n",
        "    user_movie_series = []\n",
        "    for title in list_of_all_titles:\n",
        "        if normalized_movie_name in title:  # Find all movies that contain the normalized input movie name\n",
        "            user_movie_series.append(df[df['normalized_title'] == title]['title'].values[0])\n",
        "\n",
        "    # Add user movie series (e.g., Iron Man, Iron Man 2, Iron Man 3) at the top\n",
        "    recommended_movies.extend(user_movie_series)\n",
        "\n",
        "    # Add other similar movies to fill up the top 10 suggestions\n",
        "    for movie in sorted_similar_movies:\n",
        "        index = movie[0]\n",
        "        title_from_index = df['title'].iloc[index]\n",
        "\n",
        "        # Avoid adding duplicates from the user movie series\n",
        "        if title_from_index not in recommended_movies:\n",
        "            recommended_movies.append(title_from_index)\n",
        "\n",
        "        # Stop when the top 10 recommendations are collected\n",
        "        if len(recommended_movies) >= 10:\n",
        "            break\n",
        "\n",
        "    # Display top 10 recommended movies\n",
        "    print(\"Top 10 suggested movies are -\")\n",
        "    for i, title in enumerate(recommended_movies[:10], 1):\n",
        "        print(f\"{i}. {title}\")\n"
      ],
      "metadata": {
        "id": "OfxthITDfyJM",
        "colab": {
          "base_uri": "https://localhost:8080/"
        },
        "outputId": "ad41b509-e188-4d23-cd52-1fcb2f8cab7a"
      },
      "execution_count": 21,
      "outputs": [
        {
          "output_type": "stream",
          "name": "stdout",
          "text": [
            "Enter movie name - ironman\n",
            "Top 10 suggested movies are -\n",
            "1. Iron Man 3\n",
            "2. Iron Man\n",
            "3. Iron Man 2\n",
            "4. Avengers: Age of Ultron\n",
            "5. The Avengers\n",
            "6. Captain America: Civil War\n",
            "7. Captain America: The Winter Soldier\n",
            "8. Ant-Man\n",
            "9. X-Men\n",
            "10. Made\n"
          ]
        }
      ]
    },
    {
      "cell_type": "code",
      "source": [],
      "metadata": {
        "id": "voYP1ML1fyGJ"
      },
      "execution_count": null,
      "outputs": []
    },
    {
      "cell_type": "code",
      "source": [],
      "metadata": {
        "id": "7Z8CNZhqfyDt"
      },
      "execution_count": null,
      "outputs": []
    },
    {
      "cell_type": "code",
      "source": [],
      "metadata": {
        "id": "MBuByGuyfyAv"
      },
      "execution_count": null,
      "outputs": []
    },
    {
      "cell_type": "code",
      "source": [],
      "metadata": {
        "id": "rVHC5sUbfx90"
      },
      "execution_count": null,
      "outputs": []
    },
    {
      "cell_type": "code",
      "source": [],
      "metadata": {
        "id": "I7vhqKulfx6v"
      },
      "execution_count": null,
      "outputs": []
    },
    {
      "cell_type": "code",
      "source": [],
      "metadata": {
        "id": "keL1GOi0fx3w"
      },
      "execution_count": null,
      "outputs": []
    },
    {
      "cell_type": "code",
      "source": [],
      "metadata": {
        "id": "E75xYQ3Yfx0x"
      },
      "execution_count": null,
      "outputs": []
    },
    {
      "cell_type": "code",
      "source": [],
      "metadata": {
        "id": "DsYJ-jevfxyh"
      },
      "execution_count": null,
      "outputs": []
    },
    {
      "cell_type": "code",
      "source": [],
      "metadata": {
        "id": "bGv1srNCfxvL"
      },
      "execution_count": null,
      "outputs": []
    },
    {
      "cell_type": "code",
      "source": [],
      "metadata": {
        "id": "1nRy8QX0fxsK"
      },
      "execution_count": null,
      "outputs": []
    },
    {
      "cell_type": "code",
      "source": [],
      "metadata": {
        "id": "M8HBxsHxfxpO"
      },
      "execution_count": null,
      "outputs": []
    },
    {
      "cell_type": "code",
      "source": [],
      "metadata": {
        "id": "QZWaeylnfxmQ"
      },
      "execution_count": null,
      "outputs": []
    },
    {
      "cell_type": "code",
      "source": [],
      "metadata": {
        "id": "Q-ie9-mQfxjS"
      },
      "execution_count": null,
      "outputs": []
    },
    {
      "cell_type": "code",
      "source": [],
      "metadata": {
        "id": "LCBlpNesfxgl"
      },
      "execution_count": null,
      "outputs": []
    },
    {
      "cell_type": "code",
      "source": [],
      "metadata": {
        "id": "9NsAE0Dqfxdh"
      },
      "execution_count": null,
      "outputs": []
    },
    {
      "cell_type": "code",
      "source": [],
      "metadata": {
        "id": "IKwHgPkyfxat"
      },
      "execution_count": null,
      "outputs": []
    },
    {
      "cell_type": "code",
      "source": [],
      "metadata": {
        "id": "LSOpqmzIfxX0"
      },
      "execution_count": null,
      "outputs": []
    },
    {
      "cell_type": "code",
      "source": [],
      "metadata": {
        "id": "uL8tiJkefxVG"
      },
      "execution_count": null,
      "outputs": []
    },
    {
      "cell_type": "code",
      "source": [],
      "metadata": {
        "id": "9eiwLdcnfxSV"
      },
      "execution_count": null,
      "outputs": []
    },
    {
      "cell_type": "code",
      "source": [],
      "metadata": {
        "id": "JCjaRC-KfxPi"
      },
      "execution_count": null,
      "outputs": []
    },
    {
      "cell_type": "code",
      "source": [],
      "metadata": {
        "id": "UCIrCAIkfxH8"
      },
      "execution_count": null,
      "outputs": []
    }
  ]
}